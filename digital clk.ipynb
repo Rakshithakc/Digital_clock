{
 "cells": [
  {
   "cell_type": "code",
   "execution_count": 4,
   "id": "f46b8529",
   "metadata": {},
   "outputs": [],
   "source": [
    "from tkinter import *\n",
    "from tkinter.ttk import *\n",
    "import time\n",
    "import sys\n",
    "import datetime \n",
    "\n",
    " \n",
    "root = Tk()\n",
    "root.title(\"Date and Time\")\n",
    " \n",
    "def present_time():\n",
    "    string = time.strftime('%b/%d/%Y--%H:%M:%S %p')\n",
    "    label.config(text=string)\n",
    "    label.after(1,present_time)\n",
    "label = Label(root, font=(\"aerial\", 50), background = \"black\", foreground = \"red\")\n",
    "label.pack()    \n",
    " \n",
    "\n",
    "\n",
    "present_time() \n",
    "mainloop()\n",
    "\n"
   ]
  },
  {
   "cell_type": "code",
   "execution_count": null,
   "id": "8dc7bb0e",
   "metadata": {},
   "outputs": [],
   "source": []
  }
 ],
 "metadata": {
  "kernelspec": {
   "display_name": "Python 3",
   "language": "python",
   "name": "python3"
  },
  "language_info": {
   "codemirror_mode": {
    "name": "ipython",
    "version": 3
   },
   "file_extension": ".py",
   "mimetype": "text/x-python",
   "name": "python",
   "nbconvert_exporter": "python",
   "pygments_lexer": "ipython3",
   "version": "3.8.8"
  }
 },
 "nbformat": 4,
 "nbformat_minor": 5
}
